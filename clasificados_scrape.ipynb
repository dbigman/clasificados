{
 "cells": [
  {
   "cell_type": "code",
   "execution_count": 108,
   "metadata": {},
   "outputs": [],
   "source": [
    "from selenium import webdriver\n",
    "from selenium.webdriver.chrome.options import Options\n",
    "from selenium.webdriver.common.by import By\n",
    "import time\n",
    "import pandas as pd\n",
    "from selenium.common.exceptions import NoSuchElementException"
   ]
  },
  {
   "cell_type": "code",
   "execution_count": 143,
   "metadata": {},
   "outputs": [],
   "source": [
    "pd.set_option('display.max_colwidth', None)"
   ]
  },
  {
   "cell_type": "code",
   "execution_count": 8,
   "metadata": {},
   "outputs": [],
   "source": [
    "options = Options() \n",
    "driver = webdriver.Chrome(options=options)\n",
    "driver.get('https://www.clasificadosonline.com/RealEstate.asp')"
   ]
  },
  {
   "cell_type": "code",
   "execution_count": 16,
   "metadata": {},
   "outputs": [],
   "source": [
    "multi_check_box_toggle = driver.find_element(By.XPATH,'//*[@id=\"form1\"]/div/table[2]/tbody/tr/td/div[1]')"
   ]
  },
  {
   "cell_type": "code",
   "execution_count": 12,
   "metadata": {},
   "outputs": [],
   "source": [
    "select_all = driver.find_element(By.XPATH,'//*[@id=\"form1\"]/div/table[2]/tbody/tr/td/div[2]/div[1]/input')"
   ]
  },
  {
   "cell_type": "code",
   "execution_count": 21,
   "metadata": {},
   "outputs": [],
   "source": [
    "ver_listado = driver.find_element(By.XPATH,'//*[@id=\"BtnSearchListing\"]')"
   ]
  },
  {
   "cell_type": "code",
   "execution_count": 23,
   "metadata": {},
   "outputs": [],
   "source": [
    "multi_check_box_toggle.click()\n",
    "time.sleep(2)\n",
    "select_all.click()\n",
    "time.sleep(2)\n",
    "ver_listado.click()"
   ]
  },
  {
   "cell_type": "code",
   "execution_count": 29,
   "metadata": {},
   "outputs": [],
   "source": [
    "order_by = driver.find_element(By.XPATH,'//*[@id=\"jumpMenu\"]')"
   ]
  },
  {
   "cell_type": "code",
   "execution_count": 30,
   "metadata": {},
   "outputs": [],
   "source": [
    "ultimos_publicados = driver.find_element(By.XPATH,'//*[@id=\"jumpMenu\"]/option[7]')"
   ]
  },
  {
   "cell_type": "code",
   "execution_count": 31,
   "metadata": {},
   "outputs": [],
   "source": [
    "order_by.click()"
   ]
  },
  {
   "cell_type": "code",
   "execution_count": 32,
   "metadata": {},
   "outputs": [],
   "source": [
    "ultimos_publicados.click()"
   ]
  },
  {
   "cell_type": "code",
   "execution_count": 34,
   "metadata": {},
   "outputs": [],
   "source": [
    "broker = driver.find_element(By.XPATH,'//*[@id=\"listing\"]/table/tbody/tr/td/table/tbody/tr[2]/td/div/div[2]/table[1]/tbody/tr[1]/td/div[2]/table/tbody/tr/td[2]/table/tbody/tr[2]/td[2]/center/a/img')"
   ]
  },
  {
   "cell_type": "code",
   "execution_count": 40,
   "metadata": {},
   "outputs": [
    {
     "data": {
      "text/plain": [
       "'ClasificadosOnline Costa Azul de Guardiola Realty    Lic. 16465'"
      ]
     },
     "execution_count": 40,
     "metadata": {},
     "output_type": "execute_result"
    }
   ],
   "source": [
    "broker.get_attribute('alt')"
   ]
  },
  {
   "cell_type": "code",
   "execution_count": 42,
   "metadata": {},
   "outputs": [
    {
     "data": {
      "text/plain": [
       "'2 UNITS BEACH HOUSE  COSTA AZUL BEACH...'"
      ]
     },
     "execution_count": 42,
     "metadata": {},
     "output_type": "execute_result"
    }
   ],
   "source": [
    "driver.find_element(By.CSS_SELECTOR,'#listing > table > tbody > tr > td > table > tbody > tr:nth-child(2) > td > div > div:nth-child(2) > table:nth-child(1) > tbody > tr:nth-child(1) > td > div.dv-classified-row.dv-classified-row-v2 > table > tbody > tr > td:nth-child(2) > table > tbody > tr:nth-child(1) > td > a > div > span').text"
   ]
  },
  {
   "cell_type": "code",
   "execution_count": null,
   "metadata": {},
   "outputs": [],
   "source": [
    "#listing > table > tbody > tr > td > table > tbody > tr:nth-child(2) > td > div > div:nth-child(2) > table:nth-child(1) > tbody > tr:nth-child(2) > td > div.dv-classified-row.dv-classified-row-v2 > table > tbody > tr > td:nth-child(2) > table > tbody > tr:nth-child(1) > td > a > div > span"
   ]
  },
  {
   "cell_type": "code",
   "execution_count": null,
   "metadata": {},
   "outputs": [],
   "source": [
    "#listing > table > tbody > tr > td > table > tbody > tr:nth-child(2) > td > div > div:nth-child(2) > table:nth-child(1) > tbody > tr:nth-child(1) > td > div.dv-classified-row.dv-classified-row-v2 > table > tbody > tr > td:nth-child(2) > table > tbody > tr:nth-child(1) > td > a > div > span"
   ]
  },
  {
   "cell_type": "code",
   "execution_count": null,
   "metadata": {},
   "outputs": [],
   "source": [
    "#listing > table > tbody > tr > td > table > tbody > tr:nth-child(2) > td > div > div:nth-child(2) > table:nth-child(3) > tbody > tr:nth-child(15) > td > div.dv-classified-row.dv-classified-row-v2 > table > tbody > tr > td:nth-child(2) > table > tbody > tr:nth-child(1) > td > a > div > span"
   ]
  },
  {
   "cell_type": "code",
   "execution_count": 46,
   "metadata": {},
   "outputs": [
    {
     "name": "stdout",
     "output_type": "stream",
     "text": [
      "1 1\n",
      "3 2\n"
     ]
    }
   ],
   "source": [
    "range1 = range(1,4,2)\n",
    "range2 = range(1,16)\n",
    "\n",
    "for i, j in zip(range1, range2):\n",
    "    print(i, j)"
   ]
  },
  {
   "cell_type": "code",
   "execution_count": 141,
   "metadata": {},
   "outputs": [],
   "source": [
    "table_1_listings = []\n",
    "table_2_listings = []\n",
    "list_cards = []\n",
    "\n",
    "for i in range(1,16):\n",
    "    table_1 = '#listing > table > tbody > tr > td > table > tbody > tr:nth-child(2) > td > div > div:nth-child(2) > table:nth-child(1)'\n",
    "    table_1_title = table_1 + f' > tbody > tr:nth-child({i}) > td > div.dv-classified-row.dv-classified-row-v2 > table > tbody > tr > td:nth-child(2) > table > tbody > tr:nth-child(1) > td > a > div > span'\n",
    "    table_1_rooms = table_1 + f' > tbody > tr:nth-child({i}) > td > div.dv-classified-row.dv-classified-row-v2 > table > tbody > tr > td:nth-child(2) > table > tbody > tr:nth-child(2) > td:nth-child(1) > div:nth-child(1) > span'\n",
    "    table_1_price = table_1 + f' > tbody > tr:nth-child({i}) > td > div.dv-classified-row.dv-classified-row-v2 > table > tbody > tr > td:nth-child(2) > table > tbody > tr:nth-child(2) > td:nth-child(1) > div:nth-child(2) > span:nth-child(2) > font'\n",
    "    table_1_type = table_1 + f' > tbody > tr:nth-child({i}) > td > div.dv-classified-row.dv-classified-row-v2 > table > tbody > tr > td:nth-child(2) > table > tbody > tr:nth-child(2) > td:nth-child(1) > div:nth-child(2) > span:nth-child(4)'\n",
    "    table_1_location = table_1 + f' > tbody > tr:nth-child({i}) > td > div.dv-classified-row.dv-classified-row-v2 > table > tbody > tr > td:nth-child(2) > table > tbody > tr:nth-child(3) > td'\n",
    "    table_1_link = table_1 + f' > tbody > tr:nth-child({i}) > td > div.dv-classified-row.dv-classified-row-v2 > table > tbody > tr > td:nth-child(2) > table > tbody > tr:nth-child(1) > td > a'\n",
    "    dictionary_cards = {}\n",
    "    try:\n",
    "        table_1_type_2 = table_1 + f' > tbody > tr:nth-child({i}) > td > div.dv-classified-row.dv-classified-row-v2 > table > tbody > tr > td:nth-child(2) > table > tbody > tr:nth-child(2) > td:nth-child(1) > div:nth-child(2) > span:nth-child(5)'\n",
    "        table_1_type_2_text = driver.find_element(By.CSS_SELECTOR, table_1_type_2).text\n",
    "        dictionary_cards['Type'] = driver.find_element(By.CSS_SELECTOR, table_1_type).text + ' ' + table_1_type_2_text\n",
    "        \n",
    "    except NoSuchElementException:\n",
    "        dictionary_cards['Type'] = driver.find_element(By.CSS_SELECTOR, table_1_type).text\n",
    "    \n",
    "    try:\n",
    "        table_1_broker = table_1 + f' > tbody > tr:nth-child({i}) > td > div.dv-classified-row.dv-classified-row-v2 > table > tbody > tr > td:nth-child(2) > table > tbody > tr:nth-child(2) > td:nth-child(2) > center > a > img'\n",
    "        dictionary_cards['Broker'] = driver.find_element(By.CSS_SELECTOR, table_1_broker).get_attribute('alt')\n",
    "    except NoSuchElementException:\n",
    "        dictionary_cards['Broker'] = ''\n",
    "\n",
    "    dictionary_cards['Title'] = driver.find_element(By.CSS_SELECTOR, table_1_title).text\n",
    "    dictionary_cards['Rooms'] = driver.find_element(By.CSS_SELECTOR, table_1_rooms).text\n",
    "    dictionary_cards['Price'] = driver.find_element(By.CSS_SELECTOR, table_1_price).text\n",
    "    dictionary_cards['Location'] = driver.find_element(By.CSS_SELECTOR, table_1_location).text\n",
    "    dictionary_cards['Link'] = driver.find_element(By.CSS_SELECTOR, table_1_link).get_attribute('href')\n",
    "    list_cards.append(dictionary_cards)\n",
    "\n",
    "    table_2 = '#listing > table > tbody > tr > td > table > tbody > tr:nth-child(2) > td > div > div:nth-child(2) > table:nth-child(3)'\n",
    "    table_2_title = table_2 + f' > tbody > tr:nth-child({i}) > td > div.dv-classified-row.dv-classified-row-v2 > table > tbody > tr > td:nth-child(2) > table > tbody > tr:nth-child(1) > td > a > div > span'\n",
    "    table_1_listings.append(driver.find_element(By.CSS_SELECTOR,table_1_title).text)\n",
    "    table_2_listings.append(driver.find_element(By.CSS_SELECTOR,table_2_title).text)\n"
   ]
  },
  {
   "cell_type": "code",
   "execution_count": 144,
   "metadata": {},
   "outputs": [
    {
     "data": {
      "text/html": [
       "<div>\n",
       "<style scoped>\n",
       "    .dataframe tbody tr th:only-of-type {\n",
       "        vertical-align: middle;\n",
       "    }\n",
       "\n",
       "    .dataframe tbody tr th {\n",
       "        vertical-align: top;\n",
       "    }\n",
       "\n",
       "    .dataframe thead th {\n",
       "        text-align: right;\n",
       "    }\n",
       "</style>\n",
       "<table border=\"1\" class=\"dataframe\">\n",
       "  <thead>\n",
       "    <tr style=\"text-align: right;\">\n",
       "      <th></th>\n",
       "      <th>Type</th>\n",
       "      <th>Broker</th>\n",
       "      <th>Title</th>\n",
       "      <th>Rooms</th>\n",
       "      <th>Price</th>\n",
       "      <th>Location</th>\n",
       "      <th>Link</th>\n",
       "    </tr>\n",
       "  </thead>\n",
       "  <tbody>\n",
       "    <tr>\n",
       "      <th>0</th>\n",
       "      <td>, Casa</td>\n",
       "      <td>ClasificadosOnline Costa Azul de Guardiola Realty    Lic. 16465</td>\n",
       "      <td>2 UNITS BEACH HOUSE  COSTA AZUL BEACH...</td>\n",
       "      <td>5 Cuartos | 3 Baños</td>\n",
       "      <td>$549,000</td>\n",
       "      <td>Urbanizacion-Costa Azul , Luquillo</td>\n",
       "      <td>https://www.clasificadosonline.com/UDRealEstateDetail.asp?ID=4742998</td>\n",
       "    </tr>\n",
       "    <tr>\n",
       "      <th>1</th>\n",
       "      <td>, Casa</td>\n",
       "      <td>ClasificadosOnline Villa Carolina de Team Realty</td>\n",
       "      <td>Excelente Propiedad ¡TERRERA de 2 uni...</td>\n",
       "      <td>4 Cuartos | 2 Baños</td>\n",
       "      <td>$220,000</td>\n",
       "      <td>Urbanizacion-Villa Carolina , Carolina</td>\n",
       "      <td>https://www.clasificadosonline.com/UDRealEstateDetail.asp?ID=4730422</td>\n",
       "    </tr>\n",
       "    <tr>\n",
       "      <th>2</th>\n",
       "      <td>, Comercial Repo</td>\n",
       "      <td>ClasificadosOnline Cuyon de Nazza Realty</td>\n",
       "      <td>Bo. Cuyón, Excelente oportunidad Inve...</td>\n",
       "      <td>5 Cuartos | 3 Baños</td>\n",
       "      <td>$950,000</td>\n",
       "      <td>Barrio-Cuyon , Aibonito</td>\n",
       "      <td>https://www.clasificadosonline.com/UDRealEstateDetail.asp?ID=4708988</td>\n",
       "    </tr>\n",
       "    <tr>\n",
       "      <th>3</th>\n",
       "      <td>, Apartamento</td>\n",
       "      <td>ClasificadosOnline New San Juan de RICARDO REALTY</td>\n",
       "      <td>Compramos tú Casa AHORA! 787-613-6769...</td>\n",
       "      <td>2 Cuartos | 2 Baños</td>\n",
       "      <td>$349,000</td>\n",
       "      <td>Condominio-New San Juan , Carolina</td>\n",
       "      <td>https://www.clasificadosonline.com/UDRealEstateDetail.asp?ID=4783500</td>\n",
       "    </tr>\n",
       "    <tr>\n",
       "      <th>4</th>\n",
       "      <td>, Casa</td>\n",
       "      <td>ClasificadosOnline Quebrada Seca de TUBELLAKASA.COM</td>\n",
       "      <td>EN PROCESO DE REMODELACIÓN</td>\n",
       "      <td>5 Cuartos | 3 Baños</td>\n",
       "      <td>$249,000</td>\n",
       "      <td>Barrio-Quebrada Seca , Ceiba</td>\n",
       "      <td>https://www.clasificadosonline.com/UDRealEstateDetail.asp?ID=4716889</td>\n",
       "    </tr>\n",
       "    <tr>\n",
       "      <th>5</th>\n",
       "      <td>, Casa</td>\n",
       "      <td>ClasificadosOnline Villa Carolina de AA Real Estate</td>\n",
       "      <td>Vive de rentas Propiedad de 3 apartam...</td>\n",
       "      <td>&gt;=6 Cuartos | 3 Baños</td>\n",
       "      <td>$220,000</td>\n",
       "      <td>Urbanizacion-Villa Carolina , Carolina</td>\n",
       "      <td>https://www.clasificadosonline.com/UDRealEstateDetail.asp?ID=4770429</td>\n",
       "    </tr>\n",
       "    <tr>\n",
       "      <th>6</th>\n",
       "      <td>, Apartamento</td>\n",
       "      <td>ClasificadosOnline Jardines de Valencia de PREMIUM ASSETS SOLUTIONS, LLC</td>\n",
       "      <td>*opcionado*Cond. Jardines de Valencia...</td>\n",
       "      <td>2 Cuartos | 1 Baños</td>\n",
       "      <td>$89,000</td>\n",
       "      <td>Condominio-Jardines de Valencia , San Juan - Hato Rey</td>\n",
       "      <td>https://www.clasificadosonline.com/UDRealEstateDetail.asp?ID=4707516</td>\n",
       "    </tr>\n",
       "    <tr>\n",
       "      <th>7</th>\n",
       "      <td>, Casa</td>\n",
       "      <td>ClasificadosOnline Marines de 1313 GROUP, LLC</td>\n",
       "      <td>URB MARINES REMODELADA</td>\n",
       "      <td>3 Cuartos | 1 Baños</td>\n",
       "      <td>$120,000</td>\n",
       "      <td>Barrio-Marines , Fajardo</td>\n",
       "      <td>https://www.clasificadosonline.com/UDRealEstateDetail.asp?ID=4791173</td>\n",
       "    </tr>\n",
       "    <tr>\n",
       "      <th>8</th>\n",
       "      <td>, MultiFamiliar</td>\n",
       "      <td>ClasificadosOnline Jardines Metropolitanos de TU CASA PR</td>\n",
       "      <td>Urb Jardines Metropilitano! 8 apartam...</td>\n",
       "      <td>&gt;=6 Cuartos | 5 Baños</td>\n",
       "      <td>$390,000</td>\n",
       "      <td>Urbanizacion-Jardines Metropolitanos , San Juan - Hato Rey</td>\n",
       "      <td>https://www.clasificadosonline.com/UDRealEstateDetail.asp?ID=4724959</td>\n",
       "    </tr>\n",
       "    <tr>\n",
       "      <th>9</th>\n",
       "      <td>, Casa</td>\n",
       "      <td>ClasificadosOnline Venezuela de LINETTE MIRO REAL ESTATE</td>\n",
       "      <td>Bo.Venezuela DOS UNIDADES(contadores ...</td>\n",
       "      <td>5 Cuartos | 2 Baños</td>\n",
       "      <td>$80,000</td>\n",
       "      <td>Barrio-Venezuela , San Juan - Río Piedras</td>\n",
       "      <td>https://www.clasificadosonline.com/UDRealEstateDetail.asp?ID=4665659</td>\n",
       "    </tr>\n",
       "    <tr>\n",
       "      <th>10</th>\n",
       "      <td>, Comercial</td>\n",
       "      <td>ClasificadosOnline Pueblo Caguas de Alarcón Real Estate Pro</td>\n",
       "      <td>LOCAL COMERCIAL Y RESIDENCIA SEGUNDO ...</td>\n",
       "      <td>4 Cuartos | 3 Baños</td>\n",
       "      <td>$500,250</td>\n",
       "      <td>Barrio-Pueblo Caguas , Caguas</td>\n",
       "      <td>https://www.clasificadosonline.com/UDRealEstateDetail.asp?ID=4766226</td>\n",
       "    </tr>\n",
       "    <tr>\n",
       "      <th>11</th>\n",
       "      <td>, Solar</td>\n",
       "      <td>ClasificadosOnline Cedro Abajo de REMSS, LLC</td>\n",
       "      <td>Bo. Cedro Abajo</td>\n",
       "      <td></td>\n",
       "      <td>$185,000</td>\n",
       "      <td>Barrio-Cedro Abajo , Naranjito</td>\n",
       "      <td>https://www.clasificadosonline.com/UDRealEstateDetail.asp?ID=4793406</td>\n",
       "    </tr>\n",
       "    <tr>\n",
       "      <th>12</th>\n",
       "      <td>, Casa</td>\n",
       "      <td>ClasificadosOnline Arenal de Promos Real Estate</td>\n",
       "      <td>Casa frente al mar (remodelada)</td>\n",
       "      <td>3 Cuartos | 2 Baños</td>\n",
       "      <td>$280,000</td>\n",
       "      <td>Barrio-Arenal , Salinas</td>\n",
       "      <td>https://www.clasificadosonline.com/UDRealEstateDetail.asp?ID=4791959</td>\n",
       "    </tr>\n",
       "    <tr>\n",
       "      <th>13</th>\n",
       "      <td>, Apt/WalkUp</td>\n",
       "      <td>ClasificadosOnline Haudimar Beach Apartments de Edgar Molinary</td>\n",
       "      <td>PISO # 2....FRENTE AL MAR!!!!</td>\n",
       "      <td>2 Cuartos | 2 Baños</td>\n",
       "      <td>$425,000</td>\n",
       "      <td>Condominio-Haudimar Beach Apartments , Isabela</td>\n",
       "      <td>https://www.clasificadosonline.com/UDRealEstateDetail.asp?ID=4785483</td>\n",
       "    </tr>\n",
       "    <tr>\n",
       "      <th>14</th>\n",
       "      <td>, Comercial</td>\n",
       "      <td>ClasificadosOnline Contorno de GLORYVEE MARTINEZ AGENTE BIENES RAICES</td>\n",
       "      <td>Local Comercial Toa Alta !</td>\n",
       "      <td>3 Cuartos | 1 Baños</td>\n",
       "      <td>$450,000</td>\n",
       "      <td>Barrio-Contorno , Toa Alta</td>\n",
       "      <td>https://www.clasificadosonline.com/UDRealEstateDetail.asp?ID=4783224</td>\n",
       "    </tr>\n",
       "  </tbody>\n",
       "</table>\n",
       "</div>"
      ],
      "text/plain": [
       "                Type  \\\n",
       "0            , Casa    \n",
       "1            , Casa    \n",
       "2   , Comercial Repo   \n",
       "3     , Apartamento    \n",
       "4            , Casa    \n",
       "5            , Casa    \n",
       "6     , Apartamento    \n",
       "7            , Casa    \n",
       "8   , MultiFamiliar    \n",
       "9            , Casa    \n",
       "10      , Comercial    \n",
       "11          , Solar    \n",
       "12           , Casa    \n",
       "13     , Apt/WalkUp    \n",
       "14      , Comercial    \n",
       "\n",
       "                                                                      Broker  \\\n",
       "0            ClasificadosOnline Costa Azul de Guardiola Realty    Lic. 16465   \n",
       "1                           ClasificadosOnline Villa Carolina de Team Realty   \n",
       "2                                   ClasificadosOnline Cuyon de Nazza Realty   \n",
       "3                          ClasificadosOnline New San Juan de RICARDO REALTY   \n",
       "4                        ClasificadosOnline Quebrada Seca de TUBELLAKASA.COM   \n",
       "5                       ClasificadosOnline Villa Carolina de AA Real Estate    \n",
       "6   ClasificadosOnline Jardines de Valencia de PREMIUM ASSETS SOLUTIONS, LLC   \n",
       "7                              ClasificadosOnline Marines de 1313 GROUP, LLC   \n",
       "8                   ClasificadosOnline Jardines Metropolitanos de TU CASA PR   \n",
       "9                   ClasificadosOnline Venezuela de LINETTE MIRO REAL ESTATE   \n",
       "10               ClasificadosOnline Pueblo Caguas de Alarcón Real Estate Pro   \n",
       "11                              ClasificadosOnline Cedro Abajo de REMSS, LLC   \n",
       "12                           ClasificadosOnline Arenal de Promos Real Estate   \n",
       "13            ClasificadosOnline Haudimar Beach Apartments de Edgar Molinary   \n",
       "14     ClasificadosOnline Contorno de GLORYVEE MARTINEZ AGENTE BIENES RAICES   \n",
       "\n",
       "                                       Title                  Rooms     Price  \\\n",
       "0   2 UNITS BEACH HOUSE  COSTA AZUL BEACH...    5 Cuartos | 3 Baños  $549,000   \n",
       "1   Excelente Propiedad ¡TERRERA de 2 uni...    4 Cuartos | 2 Baños  $220,000   \n",
       "2   Bo. Cuyón, Excelente oportunidad Inve...    5 Cuartos | 3 Baños  $950,000   \n",
       "3   Compramos tú Casa AHORA! 787-613-6769...    2 Cuartos | 2 Baños  $349,000   \n",
       "4                EN PROCESO DE REMODELACIÓN     5 Cuartos | 3 Baños  $249,000   \n",
       "5   Vive de rentas Propiedad de 3 apartam...  >=6 Cuartos | 3 Baños  $220,000   \n",
       "6   *opcionado*Cond. Jardines de Valencia...    2 Cuartos | 1 Baños   $89,000   \n",
       "7                     URB MARINES REMODELADA    3 Cuartos | 1 Baños  $120,000   \n",
       "8   Urb Jardines Metropilitano! 8 apartam...  >=6 Cuartos | 5 Baños  $390,000   \n",
       "9   Bo.Venezuela DOS UNIDADES(contadores ...    5 Cuartos | 2 Baños   $80,000   \n",
       "10  LOCAL COMERCIAL Y RESIDENCIA SEGUNDO ...    4 Cuartos | 3 Baños  $500,250   \n",
       "11                           Bo. Cedro Abajo                         $185,000   \n",
       "12           Casa frente al mar (remodelada)    3 Cuartos | 2 Baños  $280,000   \n",
       "13             PISO # 2....FRENTE AL MAR!!!!    2 Cuartos | 2 Baños  $425,000   \n",
       "14               Local Comercial Toa Alta !     3 Cuartos | 1 Baños  $450,000   \n",
       "\n",
       "                                                      Location  \\\n",
       "0                           Urbanizacion-Costa Azul , Luquillo   \n",
       "1                       Urbanizacion-Villa Carolina , Carolina   \n",
       "2                                      Barrio-Cuyon , Aibonito   \n",
       "3                           Condominio-New San Juan , Carolina   \n",
       "4                                 Barrio-Quebrada Seca , Ceiba   \n",
       "5                       Urbanizacion-Villa Carolina , Carolina   \n",
       "6        Condominio-Jardines de Valencia , San Juan - Hato Rey   \n",
       "7                                     Barrio-Marines , Fajardo   \n",
       "8   Urbanizacion-Jardines Metropolitanos , San Juan - Hato Rey   \n",
       "9                    Barrio-Venezuela , San Juan - Río Piedras   \n",
       "10                               Barrio-Pueblo Caguas , Caguas   \n",
       "11                              Barrio-Cedro Abajo , Naranjito   \n",
       "12                                     Barrio-Arenal , Salinas   \n",
       "13              Condominio-Haudimar Beach Apartments , Isabela   \n",
       "14                                  Barrio-Contorno , Toa Alta   \n",
       "\n",
       "                                                                    Link  \n",
       "0   https://www.clasificadosonline.com/UDRealEstateDetail.asp?ID=4742998  \n",
       "1   https://www.clasificadosonline.com/UDRealEstateDetail.asp?ID=4730422  \n",
       "2   https://www.clasificadosonline.com/UDRealEstateDetail.asp?ID=4708988  \n",
       "3   https://www.clasificadosonline.com/UDRealEstateDetail.asp?ID=4783500  \n",
       "4   https://www.clasificadosonline.com/UDRealEstateDetail.asp?ID=4716889  \n",
       "5   https://www.clasificadosonline.com/UDRealEstateDetail.asp?ID=4770429  \n",
       "6   https://www.clasificadosonline.com/UDRealEstateDetail.asp?ID=4707516  \n",
       "7   https://www.clasificadosonline.com/UDRealEstateDetail.asp?ID=4791173  \n",
       "8   https://www.clasificadosonline.com/UDRealEstateDetail.asp?ID=4724959  \n",
       "9   https://www.clasificadosonline.com/UDRealEstateDetail.asp?ID=4665659  \n",
       "10  https://www.clasificadosonline.com/UDRealEstateDetail.asp?ID=4766226  \n",
       "11  https://www.clasificadosonline.com/UDRealEstateDetail.asp?ID=4793406  \n",
       "12  https://www.clasificadosonline.com/UDRealEstateDetail.asp?ID=4791959  \n",
       "13  https://www.clasificadosonline.com/UDRealEstateDetail.asp?ID=4785483  \n",
       "14  https://www.clasificadosonline.com/UDRealEstateDetail.asp?ID=4783224  "
      ]
     },
     "execution_count": 144,
     "metadata": {},
     "output_type": "execute_result"
    }
   ],
   "source": [
    "list_cards\n",
    "df = pd.json_normalize(list_cards)\n",
    "df"
   ]
  },
  {
   "cell_type": "code",
   "execution_count": 103,
   "metadata": {},
   "outputs": [],
   "source": [
    "df = pd.json_normalize(list_cards)"
   ]
  },
  {
   "cell_type": "code",
   "execution_count": 104,
   "metadata": {},
   "outputs": [
    {
     "data": {
      "text/html": [
       "<div>\n",
       "<style scoped>\n",
       "    .dataframe tbody tr th:only-of-type {\n",
       "        vertical-align: middle;\n",
       "    }\n",
       "\n",
       "    .dataframe tbody tr th {\n",
       "        vertical-align: top;\n",
       "    }\n",
       "\n",
       "    .dataframe thead th {\n",
       "        text-align: right;\n",
       "    }\n",
       "</style>\n",
       "<table border=\"1\" class=\"dataframe\">\n",
       "  <thead>\n",
       "    <tr style=\"text-align: right;\">\n",
       "      <th></th>\n",
       "      <th>Title</th>\n",
       "      <th>Rooms</th>\n",
       "      <th>Price</th>\n",
       "    </tr>\n",
       "  </thead>\n",
       "  <tbody>\n",
       "    <tr>\n",
       "      <th>0</th>\n",
       "      <td>2 UNITS BEACH HOUSE  COSTA AZUL BEACH...</td>\n",
       "      <td>5 Cuartos | 3 Baños</td>\n",
       "      <td>$549,000</td>\n",
       "    </tr>\n",
       "    <tr>\n",
       "      <th>1</th>\n",
       "      <td>Excelente Propiedad ¡TERRERA de 2 uni...</td>\n",
       "      <td>4 Cuartos | 2 Baños</td>\n",
       "      <td>$220,000</td>\n",
       "    </tr>\n",
       "    <tr>\n",
       "      <th>2</th>\n",
       "      <td>Bo. Cuyón, Excelente oportunidad Inve...</td>\n",
       "      <td>5 Cuartos | 3 Baños</td>\n",
       "      <td>$950,000</td>\n",
       "    </tr>\n",
       "    <tr>\n",
       "      <th>3</th>\n",
       "      <td>Compramos tú Casa AHORA! 787-613-6769...</td>\n",
       "      <td>2 Cuartos | 2 Baños</td>\n",
       "      <td>$349,000</td>\n",
       "    </tr>\n",
       "    <tr>\n",
       "      <th>4</th>\n",
       "      <td>EN PROCESO DE REMODELACIÓN</td>\n",
       "      <td>5 Cuartos | 3 Baños</td>\n",
       "      <td>$249,000</td>\n",
       "    </tr>\n",
       "    <tr>\n",
       "      <th>5</th>\n",
       "      <td>Vive de rentas Propiedad de 3 apartam...</td>\n",
       "      <td>&gt;=6 Cuartos | 3 Baños</td>\n",
       "      <td>$220,000</td>\n",
       "    </tr>\n",
       "    <tr>\n",
       "      <th>6</th>\n",
       "      <td>*opcionado*Cond. Jardines de Valencia...</td>\n",
       "      <td>2 Cuartos | 1 Baños</td>\n",
       "      <td>$89,000</td>\n",
       "    </tr>\n",
       "    <tr>\n",
       "      <th>7</th>\n",
       "      <td>URB MARINES REMODELADA</td>\n",
       "      <td>3 Cuartos | 1 Baños</td>\n",
       "      <td>$120,000</td>\n",
       "    </tr>\n",
       "    <tr>\n",
       "      <th>8</th>\n",
       "      <td>Urb Jardines Metropilitano! 8 apartam...</td>\n",
       "      <td>&gt;=6 Cuartos | 5 Baños</td>\n",
       "      <td>$390,000</td>\n",
       "    </tr>\n",
       "    <tr>\n",
       "      <th>9</th>\n",
       "      <td>Bo.Venezuela DOS UNIDADES(contadores ...</td>\n",
       "      <td>5 Cuartos | 2 Baños</td>\n",
       "      <td>$80,000</td>\n",
       "    </tr>\n",
       "    <tr>\n",
       "      <th>10</th>\n",
       "      <td>LOCAL COMERCIAL Y RESIDENCIA SEGUNDO ...</td>\n",
       "      <td>4 Cuartos | 3 Baños</td>\n",
       "      <td>$500,250</td>\n",
       "    </tr>\n",
       "    <tr>\n",
       "      <th>11</th>\n",
       "      <td>Bo. Cedro Abajo</td>\n",
       "      <td></td>\n",
       "      <td>$185,000</td>\n",
       "    </tr>\n",
       "    <tr>\n",
       "      <th>12</th>\n",
       "      <td>Casa frente al mar (remodelada)</td>\n",
       "      <td>3 Cuartos | 2 Baños</td>\n",
       "      <td>$280,000</td>\n",
       "    </tr>\n",
       "    <tr>\n",
       "      <th>13</th>\n",
       "      <td>PISO # 2....FRENTE AL MAR!!!!</td>\n",
       "      <td>2 Cuartos | 2 Baños</td>\n",
       "      <td>$425,000</td>\n",
       "    </tr>\n",
       "    <tr>\n",
       "      <th>14</th>\n",
       "      <td>Local Comercial Toa Alta !</td>\n",
       "      <td>3 Cuartos | 1 Baños</td>\n",
       "      <td>$450,000</td>\n",
       "    </tr>\n",
       "  </tbody>\n",
       "</table>\n",
       "</div>"
      ],
      "text/plain": [
       "                                       Title                  Rooms     Price\n",
       "0   2 UNITS BEACH HOUSE  COSTA AZUL BEACH...    5 Cuartos | 3 Baños  $549,000\n",
       "1   Excelente Propiedad ¡TERRERA de 2 uni...    4 Cuartos | 2 Baños  $220,000\n",
       "2   Bo. Cuyón, Excelente oportunidad Inve...    5 Cuartos | 3 Baños  $950,000\n",
       "3   Compramos tú Casa AHORA! 787-613-6769...    2 Cuartos | 2 Baños  $349,000\n",
       "4                EN PROCESO DE REMODELACIÓN     5 Cuartos | 3 Baños  $249,000\n",
       "5   Vive de rentas Propiedad de 3 apartam...  >=6 Cuartos | 3 Baños  $220,000\n",
       "6   *opcionado*Cond. Jardines de Valencia...    2 Cuartos | 1 Baños   $89,000\n",
       "7                     URB MARINES REMODELADA    3 Cuartos | 1 Baños  $120,000\n",
       "8   Urb Jardines Metropilitano! 8 apartam...  >=6 Cuartos | 5 Baños  $390,000\n",
       "9   Bo.Venezuela DOS UNIDADES(contadores ...    5 Cuartos | 2 Baños   $80,000\n",
       "10  LOCAL COMERCIAL Y RESIDENCIA SEGUNDO ...    4 Cuartos | 3 Baños  $500,250\n",
       "11                           Bo. Cedro Abajo                         $185,000\n",
       "12           Casa frente al mar (remodelada)    3 Cuartos | 2 Baños  $280,000\n",
       "13             PISO # 2....FRENTE AL MAR!!!!    2 Cuartos | 2 Baños  $425,000\n",
       "14               Local Comercial Toa Alta !     3 Cuartos | 1 Baños  $450,000"
      ]
     },
     "execution_count": 104,
     "metadata": {},
     "output_type": "execute_result"
    }
   ],
   "source": [
    "df"
   ]
  },
  {
   "cell_type": "code",
   "execution_count": 70,
   "metadata": {},
   "outputs": [
    {
     "data": {
      "text/plain": [
       "['2 UNITS BEACH HOUSE  COSTA AZUL BEACH...',\n",
       " 'Excelente Propiedad ¡TERRERA de 2 uni...',\n",
       " 'Bo. Cuyón, Excelente oportunidad Inve...',\n",
       " 'Compramos tú Casa AHORA! 787-613-6769...',\n",
       " 'EN PROCESO DE REMODELACIÓN ',\n",
       " 'Vive de rentas Propiedad de 3 apartam...',\n",
       " '*opcionado*Cond. Jardines de Valencia...',\n",
       " 'URB MARINES REMODELADA',\n",
       " 'Urb Jardines Metropilitano! 8 apartam...',\n",
       " 'Bo.Venezuela DOS UNIDADES(contadores ...',\n",
       " 'LOCAL COMERCIAL Y RESIDENCIA SEGUNDO ...',\n",
       " 'Bo. Cedro Abajo',\n",
       " 'Casa frente al mar (remodelada)',\n",
       " 'PISO # 2....FRENTE AL MAR!!!!',\n",
       " 'Local Comercial Toa Alta ! ']"
      ]
     },
     "execution_count": 70,
     "metadata": {},
     "output_type": "execute_result"
    }
   ],
   "source": [
    "table_1_listings"
   ]
  },
  {
   "cell_type": "code",
   "execution_count": 71,
   "metadata": {},
   "outputs": [
    {
     "data": {
      "text/plain": [
       "['** 15 Cuerdas en Barrio La Gloria **',\n",
       " 'The Terrace',\n",
       " 'MIRAMAR,8 APTS.SELLER FINANCING',\n",
       " 'Venta Terreno Haciendas del Dorado',\n",
       " 'Caldas Terrera- super lot.',\n",
       " 'CASA GRANDE Y COMODA LLAME 787-817-95...',\n",
       " 'COLINAS DE BAYAMON 9-A, GARDEN APT',\n",
       " 'Income Property / Villa Carolina OPCI...',\n",
       " 'Casa amueblada, 2100 ft, 3 cuartos, 2...',\n",
       " 'Bo. Llanos',\n",
       " 'CONDOMINIO BAHIA A SAN JUAN ',\n",
       " 'MULTIFAMILIAR ¡Gran OPORTUNIDAD de in...',\n",
       " 'Inversionista Oportunidad de Desarrol...',\n",
       " 'Compramos tú Casa AHORA! 787-623-6769...',\n",
       " 'EN REMODELACIÓN 3/2']"
      ]
     },
     "execution_count": 71,
     "metadata": {},
     "output_type": "execute_result"
    }
   ],
   "source": [
    "table_2_listings"
   ]
  }
 ],
 "metadata": {
  "kernelspec": {
   "display_name": ".venv",
   "language": "python",
   "name": "python3"
  },
  "language_info": {
   "codemirror_mode": {
    "name": "ipython",
    "version": 3
   },
   "file_extension": ".py",
   "mimetype": "text/x-python",
   "name": "python",
   "nbconvert_exporter": "python",
   "pygments_lexer": "ipython3",
   "version": "3.9.6"
  }
 },
 "nbformat": 4,
 "nbformat_minor": 2
}
